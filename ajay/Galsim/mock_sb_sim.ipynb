{
 "cells": [
  {
   "cell_type": "code",
   "execution_count": 1,
   "metadata": {},
   "outputs": [],
   "source": [
    "import sys\n",
    "import os\n",
    "import numpy as np\n",
    "import math\n",
    "import logging\n",
    "import time\n",
    "import galsim\n",
    "import glob\n",
    "import yaml                                                                          "
   ]
  },
  {
   "cell_type": "code",
   "execution_count": 14,
   "metadata": {},
   "outputs": [],
   "source": [
    "# Functions and classes\n",
    "class SuperBITParameters:\n",
    "    def __init__(self, config_file=None, argv=None):\n",
    "        \"\"\"\n",
    "        Initialize default SuperBIT parameters                    \n",
    "        \"\"\"\n",
    "        # Use _load_config_file method \n",
    "        if config_file is not None:\n",
    "            logger.info(\n",
    "            \"Loading parameters from {}\".format(config_file))\n",
    "            self._load_config_file(config_file)\n",
    "        \n",
    "        # Check for command line argvs to overwrite\n",
    "        # config_file and/or defaults\n",
    "        if argv is not None:\n",
    "            self._load_command_line(argv)\n",
    "    \n",
    "    def _load_config_file(self, config_file):\n",
    "        \"\"\"\n",
    "        Load parameters from config file.\n",
    "        \"\"\"\n",
    "        with open(config_file) as fsettings:\n",
    "            config = yaml.load(\n",
    "                fsettings, Loader=yaml.FullLoader)\n",
    "        \n",
    "        self._load_dict(config)\n",
    "    \n",
    "    \n",
    "        \n",
    "        \n",
    "                                                                                   "
   ]
  },
  {
   "cell_type": "code",
   "execution_count": 15,
   "metadata": {},
   "outputs": [
    {
     "ename": "AttributeError",
     "evalue": "'SuperBITParameters' object has no attribute '_load_config_file'",
     "output_type": "error",
     "traceback": [
      "\u001b[0;31m---------------------------------------------------------------------------\u001b[0m",
      "\u001b[0;31mAttributeError\u001b[0m                            Traceback (most recent call last)",
      "\u001b[0;32m<ipython-input-15-36ed3f53e285>\u001b[0m in \u001b[0;36m<module>\u001b[0;34m\u001b[0m\n\u001b[1;32m     11\u001b[0m             'phaseI/superbit-metacal/ajay/Galsim')\n\u001b[1;32m     12\u001b[0m \u001b[0;34m\u001b[0m\u001b[0m\n\u001b[0;32m---> 13\u001b[0;31m \u001b[0mmain\u001b[0m\u001b[0;34m(\u001b[0m\u001b[0;34m)\u001b[0m\u001b[0;34m\u001b[0m\u001b[0;34m\u001b[0m\u001b[0m\n\u001b[0m",
      "\u001b[0;32m<ipython-input-15-36ed3f53e285>\u001b[0m in \u001b[0;36mmain\u001b[0;34m()\u001b[0m\n\u001b[1;32m      8\u001b[0m     \u001b[0;31m# Define some parameters we'll use below.\u001b[0m\u001b[0;34m\u001b[0m\u001b[0;34m\u001b[0m\u001b[0;34m\u001b[0m\u001b[0m\n\u001b[1;32m      9\u001b[0m     sbparams = SuperBITParameters(\n\u001b[0;32m---> 10\u001b[0;31m             \u001b[0mconfig_file\u001b[0m\u001b[0;34m=\u001b[0m\u001b[0;34m'/home/gill/Documents/thesis_work/abundance/'\u001b[0m \u001b[0;34m+\u001b[0m\u001b[0;34m\u001b[0m\u001b[0;34m\u001b[0m\u001b[0m\n\u001b[0m\u001b[1;32m     11\u001b[0m             'phaseI/superbit-metacal/ajay/Galsim')\n\u001b[1;32m     12\u001b[0m \u001b[0;34m\u001b[0m\u001b[0m\n",
      "\u001b[0;32m<ipython-input-14-d95022598c6c>\u001b[0m in \u001b[0;36m__init__\u001b[0;34m(self, config_file, argv)\u001b[0m\n\u001b[1;32m      9\u001b[0m             logger.info(\n\u001b[1;32m     10\u001b[0m             \"Loading parameters from {}\".format(config_file))\n\u001b[0;32m---> 11\u001b[0;31m             \u001b[0mself\u001b[0m\u001b[0;34m.\u001b[0m\u001b[0m_load_config_file\u001b[0m\u001b[0;34m(\u001b[0m\u001b[0mconfig_file\u001b[0m\u001b[0;34m)\u001b[0m\u001b[0;34m\u001b[0m\u001b[0;34m\u001b[0m\u001b[0m\n\u001b[0m\u001b[1;32m     12\u001b[0m \u001b[0;34m\u001b[0m\u001b[0m\n\u001b[1;32m     13\u001b[0m \u001b[0;34m\u001b[0m\u001b[0m\n",
      "\u001b[0;31mAttributeError\u001b[0m: 'SuperBITParameters' object has no attribute '_load_config_file'"
     ]
    }
   ],
   "source": [
    "# main\n",
    "def main():\n",
    "    logging.basicConfig(filename=\"log.log\",format=\"%(message)s\", \n",
    "                        level=logging.INFO) \n",
    "    global logger\n",
    "    logger = logging.getLogger(\"mock_sb_sim\")\n",
    "    \n",
    "    # Define some parameters we'll use below.\n",
    "    sbparams = SuperBITParameters(\n",
    "            config_file='/home/gill/Documents/thesis_work/abundance/' + \n",
    "            'phaseI/superbit-metacal/ajay/Galsim')\n",
    "\n",
    "main()"
   ]
  },
  {
   "cell_type": "code",
   "execution_count": null,
   "metadata": {},
   "outputs": [],
   "source": []
  },
  {
   "cell_type": "code",
   "execution_count": null,
   "metadata": {},
   "outputs": [],
   "source": []
  },
  {
   "cell_type": "code",
   "execution_count": null,
   "metadata": {},
   "outputs": [],
   "source": []
  },
  {
   "cell_type": "code",
   "execution_count": null,
   "metadata": {},
   "outputs": [],
   "source": []
  },
  {
   "cell_type": "code",
   "execution_count": null,
   "metadata": {},
   "outputs": [],
   "source": []
  }
 ],
 "metadata": {
  "kernelspec": {
   "display_name": "Python 3",
   "language": "python",
   "name": "python3"
  },
  "language_info": {
   "codemirror_mode": {
    "name": "ipython",
    "version": 3
   },
   "file_extension": ".py",
   "mimetype": "text/x-python",
   "name": "python",
   "nbconvert_exporter": "python",
   "pygments_lexer": "ipython3",
   "version": "3.7.6"
  }
 },
 "nbformat": 4,
 "nbformat_minor": 4
}
